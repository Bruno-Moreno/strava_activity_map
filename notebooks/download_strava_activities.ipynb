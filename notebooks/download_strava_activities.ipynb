{
 "cells": [
  {
   "cell_type": "code",
   "execution_count": 39,
   "metadata": {},
   "outputs": [],
   "source": [
    "from stravalib import Client\n",
    "import os \n",
    "from dotenv import load_dotenv\n",
    "from datetime import datetime\n",
    "import pandas as pd \n",
    "\n",
    "load_dotenv() \n",
    "\n",
    "def get_strava_authorization_code():\n",
    "\n",
    "    client = Client()\n",
    "    url = client.authorization_url(\n",
    "        client_id=os.environ[\"CLIENT_ID\"] ,\n",
    "        redirect_uri=\"http://127.0.0.1:5000/authorization\",\n",
    "    ) \n",
    "    print(url)\n",
    "\n",
    "def get_strava_token(code):\n",
    "\n",
    "    client = Client()\n",
    "    token_response = client.exchange_code_for_token(\n",
    "        client_id=os.environ[\"CLIENT_ID\"], client_secret=os.environ[\"CLIENT_SECRET\"], code=code\n",
    "    )\n",
    "\n",
    "    return token_response\n",
    "\n",
    "def strava_login(token_response):\n",
    "\n",
    "    client = Client(\n",
    "        access_token=token_response[\"access_token\"],\n",
    "    )\n",
    "\n",
    "    athlete = client.get_athlete()\n",
    "    print(f\"Hi, {athlete.firstname} Welcome to stravalib!\")\n",
    "\n",
    "    return client \n",
    "\n",
    "def strava_connection(): \n",
    "\n",
    "    get_strava_authorization_code()\n",
    "    code = input(\"Insert Autorization Code: \")\n",
    "    token_response = get_strava_token(code)\n",
    "    client = strava_login(token_response)\n",
    "\n",
    "    return client"
   ]
  },
  {
   "cell_type": "code",
   "execution_count": 3,
   "metadata": {},
   "outputs": [
    {
     "name": "stdout",
     "output_type": "stream",
     "text": [
      "https://www.strava.com/oauth/authorize?client_id=131915&redirect_uri=http%3A%2F%2F127.0.0.1%3A5000%2Fauthorization&approval_prompt=auto&scope=read%2Cactivity%3Aread&response_type=code\n"
     ]
    },
    {
     "name": "stderr",
     "output_type": "stream",
     "text": [
      "No rates present in response headers\n"
     ]
    },
    {
     "name": "stdout",
     "output_type": "stream",
     "text": [
      "Hi, Bruno Welcome to stravalib!\n"
     ]
    }
   ],
   "source": [
    "client = strava_connection()"
   ]
  },
  {
   "cell_type": "code",
   "execution_count": 50,
   "metadata": {},
   "outputs": [
    {
     "data": {
      "text/plain": [
       "['PO 12k__20250304.csv', 'San Cristóbal Virgen__20250223.csv']"
      ]
     },
     "execution_count": 50,
     "metadata": {},
     "output_type": "execute_result"
    }
   ],
   "source": [
    "import os \n",
    "data_path = \"data\"\n",
    "already_read_files = [f for f in os.listdir(data_path) if os.path.isfile(os.path.join(data_path, f)) and f.endswith('csv')]\n",
    "already_read_files"
   ]
  },
  {
   "cell_type": "code",
   "execution_count": null,
   "metadata": {},
   "outputs": [
    {
     "name": "stdout",
     "output_type": "stream",
     "text": [
      "Activity doesn't have gps data\n",
      "Activity doesn't have gps data\n",
      "Activity doesn't have gps data\n",
      "Activity doesn't have gps data\n",
      "Activity doesn't have gps data\n",
      "Activity doesn't have gps data\n",
      "Activity doesn't have gps data\n"
     ]
    },
    {
     "name": "stderr",
     "output_type": "stream",
     "text": [
      "Short term API rate limit exceeded\n"
     ]
    }
   ],
   "source": [
    "activities = client.get_activities(limit=20)\n",
    "\n",
    "for a in activities: \n",
    "    id = a.id\n",
    "    activity_name = a.name\n",
    "    activity_type = a.type\n",
    "    start_date_date = a.start_date\n",
    "    start_date_str = start_date_date.strftime(\"%Y%m%d\")\n",
    "    distance = f\"{float(a.distance)/1000:.2f}K\"\n",
    "\n",
    "    csv_name = f\"{activity_name}__{start_date_str}.csv\" \n",
    "\n",
    "    if (activity_type not in [\"WeightTraining\", \"Workout\", \"VirtualRide\", \"Treadmill\"]) and (csv_name not in already_read_files): \n",
    "\n",
    "        activity = client.get_activity_streams(id, types = [\"latlng\", \"altitude\"])\n",
    "\n",
    "        try:\n",
    "            latlng = activity[\"latlng\"].data\n",
    "            altitude = activity[\"altitude\"].data\n",
    "            data_ = pd.DataFrame([*latlng], columns=['lat','long'])\n",
    "            data_['altitude'] = altitude\n",
    "            data_[\"distance\"] = distance\n",
    "            data_['activity_id'] = id \n",
    "            data_['activity_name'] = activity_name        \n",
    "            data_['activity_type'] = activity_type    \n",
    "            data_.to_csv(f'data//{csv_name}', index = False)\n",
    "            print(f\"Activity {activity_name} successfully saved\")\n",
    "        except KeyError:\n",
    "            print(\"Activity doesn't have gps data\")"
   ]
  }
 ],
 "metadata": {
  "kernelspec": {
   "display_name": "strava_app",
   "language": "python",
   "name": "python3"
  },
  "language_info": {
   "codemirror_mode": {
    "name": "ipython",
    "version": 3
   },
   "file_extension": ".py",
   "mimetype": "text/x-python",
   "name": "python",
   "nbconvert_exporter": "python",
   "pygments_lexer": "ipython3",
   "version": "3.9.19"
  }
 },
 "nbformat": 4,
 "nbformat_minor": 2
}
